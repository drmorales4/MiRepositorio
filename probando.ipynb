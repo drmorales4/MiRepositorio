{
  "metadata": {
    "name": "EDA_2",
    "kernelspec": {
		  "display_name": "Scala",
      "language": "scala",
      "name": "spark2-scala"
    },
    "language_info": {
      "codemirror_mode": "text/x-scala",
      "file_extension": ".scala",
      "mimetype": "text/x-scala",
      "name": "scala",
      "pygments_lexer": "scala"
    }
  },
  "nbformat": 4,
  "nbformat_minor": 2,
  "cells": [
    {
      "cell_type": "code",
      "execution_count": 0,
      "metadata": {
        "autoscroll": "auto"
      },
      "outputs": [],
      "source": "import org.apache.spark.sql.types._\nval dataSchema \u003d StructType(\n    Array(\n        StructField(\"PROVINCIA\", IntegerType, true),\n        StructField(\"DESPROVINCIA\", StringType, true),\n        StructField(\"CLASE2\", IntegerType, true),\n        StructField(\"DESCLASE2\", StringType, true),\n        StructField(\"SERVICIO1\", IntegerType, true),\n        StructField(\"tonela_f\", StringType, true),\n        StructField(\"pasaj_f\", IntegerType, true),\n        StructField(\"DESCOMBUSTIBLE2\", StringType, true),\n        StructField(\"DESERVICIO1\", StringType, true),\n        StructField(\"COMBUSTIBLE2\", IntegerType, true),\n        StructField(\"MODELO1\", IntegerType, true),\n        StructField(\"DESMARCA1\", StringType, true),\n        StructField(\"DESMODELO1\", StringType, true),\n        StructField(\"DESTONELAJE\", StringType, true),\n        StructField(\"MARCA1\", IntegerType, true),\n        StructField(\"DESPASAJEROS2\", StringType, true),\n        StructField(\"TONELAJE\", IntegerType, true),\n        StructField(\"PASAJEROS2\", IntegerType, true)\n        ));"
    },
    {
      "cell_type": "code",
      "execution_count": 1,
      "metadata": {
        "autoscroll": "auto"
      },
      "outputs": [],
      "source": "val data \u003d spark\n    .read\n    .schema(dataSchema)\n    .option(\"header\", \"true\")\n    .option(\"delimiter\", \";\")\n    .option(\"charset\", \"ISO-8859-1\")\n    .csv(\"/home/drmorales4/Descargas/data-transporte/bdd-transportes-2013.csv\");"
    },
    {
      "cell_type": "code",
      "execution_count": 2,
      "metadata": {
        "autoscroll": "auto"
      },
      "outputs": [],
      "source": "data.printSchema"
    },
    {
      "cell_type": "code",
      "execution_count": 3,
      "metadata": {
        "autoscroll": "auto"
      },
      "outputs": [],
      "source": "data.count"
    },
    {
      "cell_type": "code",
      "execution_count": 4,
      "metadata": {
        "autoscroll": "auto"
      },
      "outputs": [],
      "source": "data.select(\"DESCLASE2\").distinct().sort($\"DESCLASE2\").show(109)"
    },
    {
      "cell_type": "code",
      "execution_count": 5,
      "metadata": {
        "autoscroll": "auto"
      },
      "outputs": [],
      "source": "data.describe(\"TONELAJE\").show()"
    },
    {
      "cell_type": "code",
      "execution_count": 6,
      "metadata": {
        "autoscroll": "auto"
      },
      "outputs": [],
      "source": "data.select(\"DESCOMBUSTIBLE2\").groupBy(\"DESCOMBUSTIBLE2\").count().sort($\"count\".desc).show()"
    },
    {
      "cell_type": "code",
      "execution_count": 7,
      "metadata": {
        "autoscroll": "auto"
      },
      "outputs": [],
      "source": "data.select(\"DESPROVINCIA\").distinct().show"
    },
    {
      "cell_type": "code",
      "execution_count": 8,
      "metadata": {
        "autoscroll": "auto"
      },
      "outputs": [],
      "source": "val provinciaLoja \u003d data.where($\"DESPROVINCIA\" \u003d\u003d\u003d \"LOJA\")"
    },
    {
      "cell_type": "markdown",
      "metadata": {},
      "source": "1) La cantidad y el porcentaje de vehiculos que hay en la provincia de loja con respecto a todo el pais"
    },
    {
      "cell_type": "code",
      "execution_count": 10,
      "metadata": {
        "autoscroll": "auto"
      },
      "outputs": [],
      "source": "\nprintln(\"Cantidad Provincia de Loja\" + provinciaLoja.count)\nprintln(\"Porcentaje Provincia de Loja\" + (provinciaLoja.count / data.count.toDouble) * 100 + \"%\")"
    },
    {
      "cell_type": "markdown",
      "metadata": {},
      "source": "2) Cantidad de vehiculos en la provincia de Loja que usan diferentes combustibles"
    },
    {
      "cell_type": "code",
      "execution_count": 12,
      "metadata": {
        "autoscroll": "auto"
      },
      "outputs": [],
      "source": "println(\"Gasolina: \" + provinciaLoja.where($\"DESCOMBUSTIBLE2\" \u003d\u003d\u003d \"GASOLINA\").count)\nprintln(\"Diesel: \" + provinciaLoja.where($\"DESCOMBUSTIBLE2\" \u003d\u003d\u003d \"DIESEL\").count)\nprintln(\"Gas Licuado: \" + provinciaLoja.where($\"DESCOMBUSTIBLE2\" \u003d\u003d\u003d \"GAS LICUADO\").count)\nprintln(\"Hibrido: \" + provinciaLoja.where($\"DESCOMBUSTIBLE2\" \u003d\u003d\u003d \"HIBRIDO\").count)\nprintln(\"Electrico: \" + provinciaLoja.where($\"DESCOMBUSTIBLE2\" \u003d\u003d\u003d \"ELECTRICO\").count)"
    },
    {
      "cell_type": "markdown",
      "metadata": {},
      "source": "3) Porcentaje que representan los vehiculos a Gasolina en la provincia de Loja"
    },
    {
      "cell_type": "code",
      "execution_count": 14,
      "metadata": {
        "autoscroll": "auto"
      },
      "outputs": [],
      "source": "val porcentajeG \u003d (provinciaLoja.where($\"DESCOMBUSTIBLE2\" \u003d\u003d\u003d \"GASOLINA\").count / provinciaLoja.count.toDouble) * 100"
    },
    {
      "cell_type": "markdown",
      "metadata": {},
      "source": "4. Porcentaje que representan los vehiculos a Gasolina en la provincia de Loja"
    },
    {
      "cell_type": "code",
      "execution_count": 16,
      "metadata": {
        "autoscroll": "auto"
      },
      "outputs": [],
      "source": "val porcentajeD \u003d (provinciaLoja.where($\"DESCOMBUSTIBLE2\" \u003d\u003d\u003d \"DIESEL\").count / provinciaLoja.count.toDouble) * 100"
    },
    {
      "cell_type": "markdown",
      "metadata": {},
      "source": "Porcentaje que representan los vehiculos a Gasolina en la provincia de Loja"
    },
    {
      "cell_type": "code",
      "execution_count": 18,
      "metadata": {
        "autoscroll": "auto"
      },
      "outputs": [],
      "source": "val porcentajeGas \u003d (provinciaLoja.where($\"DESCOMBUSTIBLE2\" \u003d\u003d\u003d \"GAS LICUADO\").count / provinciaLoja.count.toDouble) * 100"
    },
    {
      "cell_type": "code",
      "execution_count": 19,
      "metadata": {
        "autoscroll": "auto"
      },
      "outputs": [],
      "source": "val porcentajeH \u003d (provinciaLoja.where($\"DESCOMBUSTIBLE2\" \u003d\u003d\u003d \"HIBRIDO\").count / provinciaLoja.count.toDouble) * 100"
    },
    {
      "cell_type": "code",
      "execution_count": 20,
      "metadata": {
        "autoscroll": "auto"
      },
      "outputs": [],
      "source": "val porcentajeE \u003d (provinciaLoja.where($\"DESCOMBUSTIBLE2\" \u003d\u003d\u003d \"ELECTRICO\").count / provinciaLoja.count.toDouble) * 100 + \"%\""
    },
    {
      "cell_type": "code",
      "execution_count": 21,
      "metadata": {
        "autoscroll": "auto"
      },
      "outputs": [],
      "source": "println(\"Municipales a Gasolina: \" + provinciaLoja.where($\"DESCOMBUSTIBLE2\" \u003d\u003d\u003d \"GASOLINA\" \u0026\u0026 $\"DESERVICIO1\" \u003d\u003d\u003d \"MUNICIPAL\").count)\nprintln(\"Particulares a Gasolina: \" + provinciaLoja.where($\"DESCOMBUSTIBLE2\" \u003d\u003d\u003d \"GASOLINA\" \u0026\u0026 $\"DESERVICIO1\" \u003d\u003d\u003d \"PARTICULAR\").count)\nprintln(\"Del Estado a Gasolina: \" + provinciaLoja.where($\"DESCOMBUSTIBLE2\" \u003d\u003d\u003d \"GASOLINA\" \u0026\u0026 $\"DESERVICIO1\" \u003d\u003d\u003d \"ESTADO\").count)\nprintln(\"De Aquiler a Gasolina: \" + provinciaLoja.where($\"DESCOMBUSTIBLE2\" \u003d\u003d\u003d \"GASOLINA\" \u0026\u0026 $\"DESERVICIO1\" \u003d\u003d\u003d \"ALQUILER\").count)"
    },
    {
      "cell_type": "code",
      "execution_count": 22,
      "metadata": {
        "autoscroll": "auto"
      },
      "outputs": [],
      "source": "// falta1"
    },
    {
      "cell_type": "code",
      "execution_count": 23,
      "metadata": {
        "autoscroll": "auto"
      },
      "outputs": [],
      "source": "data.describe(\"MARCA1\").show()"
    },
    {
      "cell_type": "code",
      "execution_count": 24,
      "metadata": {
        "autoscroll": "auto"
      },
      "outputs": [],
      "source": "data.select(\"DESMARCA1\").distinct().sort($\"DESMARCA1\").show(109)"
    },
    {
      "cell_type": "code",
      "execution_count": 25,
      "metadata": {
        "autoscroll": "auto"
      },
      "outputs": [],
      "source": "val mayorCantidad \u003d data.select(\"DESMARCA1\").groupBy(\"DESMARCA1\").count().sort($\"count\".desc).show(5)"
    },
    {
      "cell_type": "code",
      "execution_count": 26,
      "metadata": {
        "autoscroll": "auto"
      },
      "outputs": [],
      "source": "val dataChe \u003d data.where($\"DESMARCA1\" \u003d\u003d\u003d \"CHEVROLET\")"
    },
    {
      "cell_type": "code",
      "execution_count": 27,
      "metadata": {
        "autoscroll": "auto"
      },
      "outputs": [],
      "source": "val dataSuz \u003d data.where($\"DESMARCA1\" \u003d\u003d\u003d \"SUZUKI\")"
    },
    {
      "cell_type": "code",
      "execution_count": 28,
      "metadata": {
        "autoscroll": "auto"
      },
      "outputs": [],
      "source": "val provinciaMayorChe \u003d dataChe.select(\"DESPROVINCIA\")\n.groupBy(\"DESPROVINCIA\").count().sort($\"count\".desc).show(3)"
    },
    {
      "cell_type": "code",
      "execution_count": 29,
      "metadata": {
        "autoscroll": "auto"
      },
      "outputs": [],
      "source": "val provinciaMayorSuz \u003d dataSuz.select(\"DESPROVINCIA\")\n.groupBy(\"DESPROVINCIA\").count().sort($\"count\".desc).show(3)"
    },
    {
      "cell_type": "code",
      "execution_count": 30,
      "metadata": {
        "autoscroll": "auto"
      },
      "outputs": [],
      "source": "println(dataChe.where($\"DESERVICIO1\" \u003d\u003d\u003d \"MUNICIPAL\").count)\nprintln(dataChe.where($\"DESERVICIO1\" \u003d\u003d\u003d \"PARTICULAR\").count)\nprintln(dataChe.where($\"DESERVICIO1\" \u003d\u003d\u003d \"ESTADO\").count)\nprintln(dataChe.where($\"DESERVICIO1\" \u003d\u003d\u003d \"ALQUILER\").count)"
    },
    {
      "cell_type": "code",
      "execution_count": 31,
      "metadata": {
        "autoscroll": "auto"
      },
      "outputs": [],
      "source": "println(dataChe.where($\"DESERVICIO1\" \u003d\u003d\u003d \"MUNICIPAL\").count / dataChe.count.toDouble * 100)\nprintln(dataChe.where($\"DESERVICIO1\" \u003d\u003d\u003d \"PARTICULAR\").count / dataChe.count.toDouble * 100)\nprintln(dataChe.where($\"DESERVICIO1\" \u003d\u003d\u003d \"ESTADO\").count / dataChe.count.toDouble * 100)\nprintln(dataChe.where($\"DESERVICIO1\" \u003d\u003d\u003d \"ALQUILER\").count / dataChe.count.toDouble * 100)"
    },
    {
      "cell_type": "code",
      "execution_count": 32,
      "metadata": {
        "autoscroll": "auto"
      },
      "outputs": [],
      "source": "// describir todas las clases de vehiculos\ndata.select(\"DESCLASE2\").distinct().sort($\"DESCLASE2\").show"
    },
    {
      "cell_type": "code",
      "execution_count": 33,
      "metadata": {
        "autoscroll": "auto"
      },
      "outputs": [],
      "source": "val livianos \u003d data.where($\"DESCLASE2\" \u003d\u003d\u003d \"AUTÓMOVIL\" || $\"DESCLASE2\" \u003d\u003d\u003d \"MOTOCICLETA\" || $\"DESCLASE2\" \u003d\u003d\u003d \"CAMIONETA\" || $\"DESCLASE2\" \u003d\u003d\u003d \"FURGONETA C\" || $\"DESCLASE2\" \u003d\u003d\u003d \"FURGONETA P\" || $\"DESCLASE2\" \u003d\u003d\u003d \"JEEP\" )\nprintln(livianos.count)"
    },
    {
      "cell_type": "code",
      "execution_count": 34,
      "metadata": {
        "autoscroll": "auto"
      },
      "outputs": [],
      "source": "val pesados \u003d data.where($\"DESCLASE2\" \u003d\u003d\u003d \"BUS\" || $\"DESCLASE2\" \u003d\u003d\u003d \"CAMIÓN\" || $\"DESCLASE2\" \u003d\u003d\u003d \"COLECTIVO\" || $\"DESCLASE2\" \u003d\u003d\u003d \"TANQUERO\" || $\"DESCLASE2\" \u003d\u003d\u003d \"TRÁILER\" || $\"DESCLASE2\" \u003d\u003d\u003d \"VOLQUETE\")\nprintln(pesados.count)"
    },
    {
      "cell_type": "code",
      "execution_count": 35,
      "metadata": {
        "autoscroll": "auto"
      },
      "outputs": [],
      "source": "data.select(\"DESCLASE2\").distinct().sort($\"DESCLASE2\").show(109)"
    },
    {
      "cell_type": "markdown",
      "metadata": {},
      "source": "Porcentaje que representan los vehiculos livianos y pesados"
    },
    {
      "cell_type": "code",
      "execution_count": 37,
      "metadata": {
        "autoscroll": "auto"
      },
      "outputs": [],
      "source": "println(\"Livianos: \" + livianos.count / data.count.toDouble * 100 + \" %\")\nprintln(\"Pesados: \" + pesados.count / data.count.toDouble * 100 + \" %\")"
    }
  ]
}